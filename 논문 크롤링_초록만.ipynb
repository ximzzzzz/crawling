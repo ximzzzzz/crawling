{
 "cells": [
  {
   "cell_type": "code",
   "execution_count": 1,
   "metadata": {},
   "outputs": [],
   "source": [
    "from urllib.request import *\n",
    "from urllib import request\n",
    "import urllib.parse\n",
    "from bs4 import BeautifulSoup\n",
    "import bs4\n",
    "import re\n",
    "import numpy as np\n",
    "import requests\n",
    "from tika import parser as tkparser\n",
    "import lxml\n",
    "from selenium import webdriver\n",
    "import time\n",
    "import pandas as pd\n",
    "# import Exception"
   ]
  },
  {
   "cell_type": "code",
   "execution_count": 17,
   "metadata": {},
   "outputs": [],
   "source": [
    "class crawler():\n",
    "    def __init__(self):\n",
    "        self.papers = pd.DataFrame(columns=['title', 'keywords_lang', 'keywords', 'abstract_lang','abstract'])\n",
    "        self.df_idx = 0 \n",
    "        self.max_page_view = 20\n",
    "        self.basic_url = 'http://kmbase.medric.or.kr'\n",
    "        self.browser = webdriver.Chrome('C:/Users/NB-0242/jupyter/PHR/chromedriver.exe')\n",
    "        self.browser.get('http://kmbase.medric.or.kr/Main.aspx?menu=01&d=SEARCH&s=NORMAL&kw=%ub300%uc0ac%uc99d%ud6c4%uad70')\n",
    "        \n",
    "#         search_html = self.browser.page_source\n",
    "#         search_bs = BeautifulSoup(search_html, 'html.parser')\n",
    "#         self.n_papers = int(search_bs.find('span', {'id' : 'ctl11_ctl01_ctl00_total_count'}).find_all('font')[1].get_text())\n",
    "    \n",
    "    \n",
    "    def page_crawling(self):\n",
    "        for view in range(3):\n",
    "            self.page_filler()\n",
    "            if view ==0:\n",
    "                for i in range(2, self.max_page_view+2):\n",
    "                    print('view {} , {}th iter start'.format(view, i))\n",
    "                    self.browser.find_element_by_xpath('//*[@id=\"ctl11_ctl01_ctl00_KMGridList\"]/tbody/tr[22]/td/table/tbody/tr/td[{}]/a'.format(i)).click()\n",
    "                    time.sleep(3)\n",
    "                    self.page_filler()\n",
    "                    \n",
    "            elif view==1:\n",
    "                for i in range(3, self.max_page_view+3):\n",
    "                    print('view {} , {}th iter start'.format(view, i))\n",
    "                    self.browser.find_element_by_xpath('//*[@id=\"ctl11_ctl01_ctl00_KMGridList\"]/tbody/tr[22]/td/table/tbody/tr/td[{}]/a'.format(i)).click()\n",
    "\n",
    "                    time.sleep(3)\n",
    "                    self.page_filler()\n",
    "            elif view==2:\n",
    "                for i in range(17, self.max_page_view+2):\n",
    "                    print('view {} , {}th iter start'.format(view, i))\n",
    "                    self.browser.find_element_by_xpath('//*[@id=\"ctl11_ctl01_ctl00_KMGridList\"]/tbody/tr[22]/td/table/tbody/tr/td[{}]/a'.format(i)).click()                   \n",
    "                    time.sleep(3)\n",
    "                    self.page_filler()                \n",
    "#             self.browser.find_element_by_expath('//*[@id=\"ctl11_ctl01_ctl00_KMGridList\"]/tbody/tr[22]/td/table/tbody/tr/td[21]/a')\n",
    "            print('{}page filler finished'.format(view))\n",
    "        \n",
    "    \n",
    "    def get_query_links(self, bs_object):\n",
    "        query_links = bs_object.find('div',{'id' : 'mainWrapper'}).find('table', {'id' : 'ctl11_ctl01_ctl00_KMbase_table'}).find_all('li')\n",
    "        return query_links\n",
    "    \n",
    "    def get_filtered_links(self, query_links):\n",
    "        query_links_filtered =[]\n",
    "        for idx, link in enumerate(query_links) :\n",
    "            refined = str(link).strip('<li>').strip('</li>').strip()\n",
    "\n",
    "            if re.compile('<a').match(refined):\n",
    "                splited = refined.split('>')[0].strip('<a href=').strip('\"')\n",
    "                if re.compile('http').match(splited):\n",
    "                    continue\n",
    "                else:\n",
    "                    query_links_filtered.append(splited)   \n",
    "        return np.unique(query_links_filtered)\n",
    "    \n",
    "    def get_query_bs(self, filtered_link):\n",
    "        query_addr = basic_url + filtered_link.replace('amp;', '')\n",
    "        query_html = urlopen(query_addr)\n",
    "        query_bs = BeautifulSoup(query_html, 'html.parser')\n",
    "        journal_info = query_bs.find('span', {'id' : 'ctl11_ctl01_ctl00_journal_info'}).select('a')[0].get('href')\n",
    "        return query_bs, journal_info\n",
    "\n",
    "    def make_keywords_str(self, keywords):\n",
    "        keywords_str = ''\n",
    "        for i in range(len(keywords)):\n",
    "            keywords_str += keywords[i] + ','\n",
    "        return keywords_str\n",
    "    \n",
    "    \n",
    "    \n",
    "    def page_filler(self):\n",
    "        search_html = self.browser.page_source\n",
    "        search_bs = BeautifulSoup(search_html, 'html.parser')\n",
    "        search_links = self.get_query_links(search_bs)\n",
    "        search_links_filtered = self.get_filtered_links(search_links)\n",
    "\n",
    "        for i in range( len( search_links_filtered)):\n",
    "            self.article_addr = self.basic_url + str(search_links_filtered[i]).replace('amp;', '')\n",
    "            try : \n",
    "                article_bs = BeautifulSoup(urlopen(self.article_addr), 'html.parser')\n",
    "                \n",
    "            except:\n",
    "                continue\n",
    "            \n",
    "            try :\n",
    "                title = article_bs.find('span', {'id' : 'ctl11_ctl01_ctl00_title_kor'}).get_text()\n",
    "            except : \n",
    "                continue\n",
    "                \n",
    "#             print(title)\n",
    "            abstract_lang = 'en'\n",
    "            keywords_lang = 'en'\n",
    "            try : \n",
    "                if bool(article_bs.find('span', {'id' : 'ctl11_ctl01_ctl00_abstract_kor'}).get_text()):\n",
    "                    abstract = article_bs.find('span', {'id' : 'ctl11_ctl01_ctl00_abstract_kor'}).get_text()\n",
    "                    abstract_lang = 'ko'\n",
    "                else:\n",
    "                    abstract = article_bs.find('span', {'id' : 'ctl11_ctl01_ctl00_abstract_eng'}).get_text()\n",
    "\n",
    "            except :\n",
    "                try :\n",
    "                    abstract = article_bs.find('span', {'id' : 'ctl11_ctl01_ctl00_abstract_eng'}).get_text()\n",
    "                except : \n",
    "                    abstract = [\"\"]\n",
    "                \n",
    "\n",
    "\n",
    "            try:\n",
    "                if bool(article_bs.find('span', {'id' : 'ctl11_ctl01_ctl00_keyword_kor' }).get_text()):\n",
    "                    keywords = article_bs.find('span', {'id' : 'ctl11_ctl01_ctl00_keyword_kor' }).get_text().split(';')\n",
    "                    keywords_lang ='ko'\n",
    "                else:\n",
    "                    keywords = article_bs.find('span', {'id' : 'ctl11_ctl01_ctl00_keyword_eng' }).get_text().split(';')\n",
    "\n",
    "            except : \n",
    "                try : \n",
    "                    keywords = article_bs.find('span', {'id' : 'ctl11_ctl01_ctl00_keyword_eng' }).get_text().split(';')\n",
    "                    \n",
    "                except :\n",
    "                    keywords = [\"\"]\n",
    "                    \n",
    "            keywords_str = self.make_keywords_str(keywords)\n",
    "\n",
    "            self.papers.loc[self.df_idx] = title, keywords_lang, keywords_str , abstract_lang, abstract\n",
    "            self.df_idx +=1\n",
    "             "
   ]
  },
  {
   "cell_type": "code",
   "execution_count": 18,
   "metadata": {},
   "outputs": [],
   "source": [
    "crawler = crawler()"
   ]
  },
  {
   "cell_type": "code",
   "execution_count": 19,
   "metadata": {
    "scrolled": true
   },
   "outputs": [
    {
     "name": "stdout",
     "output_type": "stream",
     "text": [
      "view 0 , 2th iter start\n",
      "view 0 , 3th iter start\n",
      "view 0 , 4th iter start\n",
      "view 0 , 5th iter start\n",
      "view 0 , 6th iter start\n",
      "view 0 , 7th iter start\n",
      "view 0 , 8th iter start\n",
      "view 0 , 9th iter start\n",
      "view 0 , 10th iter start\n",
      "view 0 , 11th iter start\n",
      "view 0 , 12th iter start\n",
      "view 0 , 13th iter start\n",
      "view 0 , 14th iter start\n",
      "view 0 , 15th iter start\n",
      "view 0 , 16th iter start\n",
      "view 0 , 17th iter start\n",
      "view 0 , 18th iter start\n",
      "view 0 , 19th iter start\n",
      "view 0 , 20th iter start\n",
      "view 0 , 21th iter start\n",
      "0page filler finished\n",
      "view 1 , 3th iter start\n",
      "view 1 , 4th iter start\n",
      "view 1 , 5th iter start\n",
      "view 1 , 6th iter start\n",
      "view 1 , 7th iter start\n",
      "view 1 , 8th iter start\n",
      "view 1 , 9th iter start\n",
      "view 1 , 10th iter start\n",
      "view 1 , 11th iter start\n",
      "view 1 , 12th iter start\n",
      "view 1 , 13th iter start\n",
      "view 1 , 14th iter start\n",
      "view 1 , 15th iter start\n",
      "view 1 , 16th iter start\n",
      "view 1 , 17th iter start\n",
      "view 1 , 18th iter start\n",
      "view 1 , 19th iter start\n",
      "view 1 , 20th iter start\n",
      "view 1 , 21th iter start\n",
      "view 1 , 22th iter start\n",
      "1page filler finished\n",
      "view 2 , 17th iter start\n",
      "view 2 , 18th iter start\n",
      "view 2 , 19th iter start\n",
      "view 2 , 20th iter start\n",
      "view 2 , 21th iter start\n",
      "view 2 , 22th iter start\n"
     ]
    },
    {
     "ename": "NoSuchElementException",
     "evalue": "Message: no such element: Unable to locate element: {\"method\":\"xpath\",\"selector\":\"//*[@id=\"ctl11_ctl01_ctl00_KMGridList\"]/tbody/tr[22]/td/table/tbody/tr/td[22]/a\"}\n  (Session info: chrome=80.0.3987.163)\n",
     "output_type": "error",
     "traceback": [
      "\u001b[1;31m---------------------------------------------------------------------------\u001b[0m",
      "\u001b[1;31mNoSuchElementException\u001b[0m                    Traceback (most recent call last)",
      "\u001b[1;32m<ipython-input-19-623a3f8ada2b>\u001b[0m in \u001b[0;36m<module>\u001b[1;34m\u001b[0m\n\u001b[1;32m----> 1\u001b[1;33m \u001b[0mcrawler\u001b[0m\u001b[1;33m.\u001b[0m\u001b[0mpage_crawling\u001b[0m\u001b[1;33m(\u001b[0m\u001b[1;33m)\u001b[0m\u001b[1;33m\u001b[0m\u001b[1;33m\u001b[0m\u001b[0m\n\u001b[0m",
      "\u001b[1;32m<ipython-input-17-7294897a538a>\u001b[0m in \u001b[0;36mpage_crawling\u001b[1;34m(self)\u001b[0m\n\u001b[0;32m     33\u001b[0m                 \u001b[1;32mfor\u001b[0m \u001b[0mi\u001b[0m \u001b[1;32min\u001b[0m \u001b[0mrange\u001b[0m\u001b[1;33m(\u001b[0m\u001b[1;36m17\u001b[0m\u001b[1;33m,\u001b[0m \u001b[0mself\u001b[0m\u001b[1;33m.\u001b[0m\u001b[0mmax_page_view\u001b[0m\u001b[1;33m+\u001b[0m\u001b[1;36m3\u001b[0m\u001b[1;33m)\u001b[0m\u001b[1;33m:\u001b[0m\u001b[1;33m\u001b[0m\u001b[1;33m\u001b[0m\u001b[0m\n\u001b[0;32m     34\u001b[0m                     \u001b[0mprint\u001b[0m\u001b[1;33m(\u001b[0m\u001b[1;34m'view {} , {}th iter start'\u001b[0m\u001b[1;33m.\u001b[0m\u001b[0mformat\u001b[0m\u001b[1;33m(\u001b[0m\u001b[0mview\u001b[0m\u001b[1;33m,\u001b[0m \u001b[0mi\u001b[0m\u001b[1;33m)\u001b[0m\u001b[1;33m)\u001b[0m\u001b[1;33m\u001b[0m\u001b[1;33m\u001b[0m\u001b[0m\n\u001b[1;32m---> 35\u001b[1;33m                     \u001b[0mself\u001b[0m\u001b[1;33m.\u001b[0m\u001b[0mbrowser\u001b[0m\u001b[1;33m.\u001b[0m\u001b[0mfind_element_by_xpath\u001b[0m\u001b[1;33m(\u001b[0m\u001b[1;34m'//*[@id=\"ctl11_ctl01_ctl00_KMGridList\"]/tbody/tr[22]/td/table/tbody/tr/td[{}]/a'\u001b[0m\u001b[1;33m.\u001b[0m\u001b[0mformat\u001b[0m\u001b[1;33m(\u001b[0m\u001b[0mi\u001b[0m\u001b[1;33m)\u001b[0m\u001b[1;33m)\u001b[0m\u001b[1;33m.\u001b[0m\u001b[0mclick\u001b[0m\u001b[1;33m(\u001b[0m\u001b[1;33m)\u001b[0m\u001b[1;33m\u001b[0m\u001b[1;33m\u001b[0m\u001b[0m\n\u001b[0m\u001b[0;32m     36\u001b[0m                     \u001b[0mtime\u001b[0m\u001b[1;33m.\u001b[0m\u001b[0msleep\u001b[0m\u001b[1;33m(\u001b[0m\u001b[1;36m3\u001b[0m\u001b[1;33m)\u001b[0m\u001b[1;33m\u001b[0m\u001b[1;33m\u001b[0m\u001b[0m\n\u001b[0;32m     37\u001b[0m                     \u001b[0mself\u001b[0m\u001b[1;33m.\u001b[0m\u001b[0mpage_filler\u001b[0m\u001b[1;33m(\u001b[0m\u001b[1;33m)\u001b[0m\u001b[1;33m\u001b[0m\u001b[1;33m\u001b[0m\u001b[0m\n",
      "\u001b[1;32m~\\Anaconda3\\envs\\ximz\\lib\\site-packages\\selenium\\webdriver\\remote\\webdriver.py\u001b[0m in \u001b[0;36mfind_element_by_xpath\u001b[1;34m(self, xpath)\u001b[0m\n\u001b[0;32m    392\u001b[0m             \u001b[0melement\u001b[0m \u001b[1;33m=\u001b[0m \u001b[0mdriver\u001b[0m\u001b[1;33m.\u001b[0m\u001b[0mfind_element_by_xpath\u001b[0m\u001b[1;33m(\u001b[0m\u001b[1;34m'//div/td[1]'\u001b[0m\u001b[1;33m)\u001b[0m\u001b[1;33m\u001b[0m\u001b[1;33m\u001b[0m\u001b[0m\n\u001b[0;32m    393\u001b[0m         \"\"\"\n\u001b[1;32m--> 394\u001b[1;33m         \u001b[1;32mreturn\u001b[0m \u001b[0mself\u001b[0m\u001b[1;33m.\u001b[0m\u001b[0mfind_element\u001b[0m\u001b[1;33m(\u001b[0m\u001b[0mby\u001b[0m\u001b[1;33m=\u001b[0m\u001b[0mBy\u001b[0m\u001b[1;33m.\u001b[0m\u001b[0mXPATH\u001b[0m\u001b[1;33m,\u001b[0m \u001b[0mvalue\u001b[0m\u001b[1;33m=\u001b[0m\u001b[0mxpath\u001b[0m\u001b[1;33m)\u001b[0m\u001b[1;33m\u001b[0m\u001b[1;33m\u001b[0m\u001b[0m\n\u001b[0m\u001b[0;32m    395\u001b[0m \u001b[1;33m\u001b[0m\u001b[0m\n\u001b[0;32m    396\u001b[0m     \u001b[1;32mdef\u001b[0m \u001b[0mfind_elements_by_xpath\u001b[0m\u001b[1;33m(\u001b[0m\u001b[0mself\u001b[0m\u001b[1;33m,\u001b[0m \u001b[0mxpath\u001b[0m\u001b[1;33m)\u001b[0m\u001b[1;33m:\u001b[0m\u001b[1;33m\u001b[0m\u001b[1;33m\u001b[0m\u001b[0m\n",
      "\u001b[1;32m~\\Anaconda3\\envs\\ximz\\lib\\site-packages\\selenium\\webdriver\\remote\\webdriver.py\u001b[0m in \u001b[0;36mfind_element\u001b[1;34m(self, by, value)\u001b[0m\n\u001b[0;32m    976\u001b[0m         return self.execute(Command.FIND_ELEMENT, {\n\u001b[0;32m    977\u001b[0m             \u001b[1;34m'using'\u001b[0m\u001b[1;33m:\u001b[0m \u001b[0mby\u001b[0m\u001b[1;33m,\u001b[0m\u001b[1;33m\u001b[0m\u001b[1;33m\u001b[0m\u001b[0m\n\u001b[1;32m--> 978\u001b[1;33m             'value': value})['value']\n\u001b[0m\u001b[0;32m    979\u001b[0m \u001b[1;33m\u001b[0m\u001b[0m\n\u001b[0;32m    980\u001b[0m     \u001b[1;32mdef\u001b[0m \u001b[0mfind_elements\u001b[0m\u001b[1;33m(\u001b[0m\u001b[0mself\u001b[0m\u001b[1;33m,\u001b[0m \u001b[0mby\u001b[0m\u001b[1;33m=\u001b[0m\u001b[0mBy\u001b[0m\u001b[1;33m.\u001b[0m\u001b[0mID\u001b[0m\u001b[1;33m,\u001b[0m \u001b[0mvalue\u001b[0m\u001b[1;33m=\u001b[0m\u001b[1;32mNone\u001b[0m\u001b[1;33m)\u001b[0m\u001b[1;33m:\u001b[0m\u001b[1;33m\u001b[0m\u001b[1;33m\u001b[0m\u001b[0m\n",
      "\u001b[1;32m~\\Anaconda3\\envs\\ximz\\lib\\site-packages\\selenium\\webdriver\\remote\\webdriver.py\u001b[0m in \u001b[0;36mexecute\u001b[1;34m(self, driver_command, params)\u001b[0m\n\u001b[0;32m    319\u001b[0m         \u001b[0mresponse\u001b[0m \u001b[1;33m=\u001b[0m \u001b[0mself\u001b[0m\u001b[1;33m.\u001b[0m\u001b[0mcommand_executor\u001b[0m\u001b[1;33m.\u001b[0m\u001b[0mexecute\u001b[0m\u001b[1;33m(\u001b[0m\u001b[0mdriver_command\u001b[0m\u001b[1;33m,\u001b[0m \u001b[0mparams\u001b[0m\u001b[1;33m)\u001b[0m\u001b[1;33m\u001b[0m\u001b[1;33m\u001b[0m\u001b[0m\n\u001b[0;32m    320\u001b[0m         \u001b[1;32mif\u001b[0m \u001b[0mresponse\u001b[0m\u001b[1;33m:\u001b[0m\u001b[1;33m\u001b[0m\u001b[1;33m\u001b[0m\u001b[0m\n\u001b[1;32m--> 321\u001b[1;33m             \u001b[0mself\u001b[0m\u001b[1;33m.\u001b[0m\u001b[0merror_handler\u001b[0m\u001b[1;33m.\u001b[0m\u001b[0mcheck_response\u001b[0m\u001b[1;33m(\u001b[0m\u001b[0mresponse\u001b[0m\u001b[1;33m)\u001b[0m\u001b[1;33m\u001b[0m\u001b[1;33m\u001b[0m\u001b[0m\n\u001b[0m\u001b[0;32m    322\u001b[0m             response['value'] = self._unwrap_value(\n\u001b[0;32m    323\u001b[0m                 response.get('value', None))\n",
      "\u001b[1;32m~\\Anaconda3\\envs\\ximz\\lib\\site-packages\\selenium\\webdriver\\remote\\errorhandler.py\u001b[0m in \u001b[0;36mcheck_response\u001b[1;34m(self, response)\u001b[0m\n\u001b[0;32m    240\u001b[0m                 \u001b[0malert_text\u001b[0m \u001b[1;33m=\u001b[0m \u001b[0mvalue\u001b[0m\u001b[1;33m[\u001b[0m\u001b[1;34m'alert'\u001b[0m\u001b[1;33m]\u001b[0m\u001b[1;33m.\u001b[0m\u001b[0mget\u001b[0m\u001b[1;33m(\u001b[0m\u001b[1;34m'text'\u001b[0m\u001b[1;33m)\u001b[0m\u001b[1;33m\u001b[0m\u001b[1;33m\u001b[0m\u001b[0m\n\u001b[0;32m    241\u001b[0m             \u001b[1;32mraise\u001b[0m \u001b[0mexception_class\u001b[0m\u001b[1;33m(\u001b[0m\u001b[0mmessage\u001b[0m\u001b[1;33m,\u001b[0m \u001b[0mscreen\u001b[0m\u001b[1;33m,\u001b[0m \u001b[0mstacktrace\u001b[0m\u001b[1;33m,\u001b[0m \u001b[0malert_text\u001b[0m\u001b[1;33m)\u001b[0m\u001b[1;33m\u001b[0m\u001b[1;33m\u001b[0m\u001b[0m\n\u001b[1;32m--> 242\u001b[1;33m         \u001b[1;32mraise\u001b[0m \u001b[0mexception_class\u001b[0m\u001b[1;33m(\u001b[0m\u001b[0mmessage\u001b[0m\u001b[1;33m,\u001b[0m \u001b[0mscreen\u001b[0m\u001b[1;33m,\u001b[0m \u001b[0mstacktrace\u001b[0m\u001b[1;33m)\u001b[0m\u001b[1;33m\u001b[0m\u001b[1;33m\u001b[0m\u001b[0m\n\u001b[0m\u001b[0;32m    243\u001b[0m \u001b[1;33m\u001b[0m\u001b[0m\n\u001b[0;32m    244\u001b[0m     \u001b[1;32mdef\u001b[0m \u001b[0m_value_or_default\u001b[0m\u001b[1;33m(\u001b[0m\u001b[0mself\u001b[0m\u001b[1;33m,\u001b[0m \u001b[0mobj\u001b[0m\u001b[1;33m,\u001b[0m \u001b[0mkey\u001b[0m\u001b[1;33m,\u001b[0m \u001b[0mdefault\u001b[0m\u001b[1;33m)\u001b[0m\u001b[1;33m:\u001b[0m\u001b[1;33m\u001b[0m\u001b[1;33m\u001b[0m\u001b[0m\n",
      "\u001b[1;31mNoSuchElementException\u001b[0m: Message: no such element: Unable to locate element: {\"method\":\"xpath\",\"selector\":\"//*[@id=\"ctl11_ctl01_ctl00_KMGridList\"]/tbody/tr[22]/td/table/tbody/tr/td[22]/a\"}\n  (Session info: chrome=80.0.3987.163)\n"
     ]
    }
   ],
   "source": [
    "crawler.page_crawling()"
   ]
  },
  {
   "cell_type": "code",
   "execution_count": 20,
   "metadata": {},
   "outputs": [
    {
     "data": {
      "text/html": [
       "<div>\n",
       "<style scoped>\n",
       "    .dataframe tbody tr th:only-of-type {\n",
       "        vertical-align: middle;\n",
       "    }\n",
       "\n",
       "    .dataframe tbody tr th {\n",
       "        vertical-align: top;\n",
       "    }\n",
       "\n",
       "    .dataframe thead th {\n",
       "        text-align: right;\n",
       "    }\n",
       "</style>\n",
       "<table border=\"1\" class=\"dataframe\">\n",
       "  <thead>\n",
       "    <tr style=\"text-align: right;\">\n",
       "      <th></th>\n",
       "      <th>title</th>\n",
       "      <th>keywords_lang</th>\n",
       "      <th>keywords</th>\n",
       "      <th>abstract_lang</th>\n",
       "      <th>abstract</th>\n",
       "    </tr>\n",
       "  </thead>\n",
       "  <tbody>\n",
       "    <tr>\n",
       "      <th>0</th>\n",
       "      <td>한국 성인의 식생활평가지수에 기반한 전체 식사의 질과 대사증후군 구성요서 및 대사증...</td>\n",
       "      <td>en</td>\n",
       "      <td>diet quality, Korean Healthy Eating Index, met...</td>\n",
       "      <td>en</td>\n",
       "      <td>Objectives: This study examined the associatio...</td>\n",
       "    </tr>\n",
       "    <tr>\n",
       "      <th>1</th>\n",
       "      <td>폐경 경험 및 대사증후군 구성요소와 치주염의 관련성</td>\n",
       "      <td>en</td>\n",
       "      <td>Menopause status, Metabolic syndrome, Oral hea...</td>\n",
       "      <td>en</td>\n",
       "      <td>Objectives: The purpose of this study was to i...</td>\n",
       "    </tr>\n",
       "    <tr>\n",
       "      <th>2</th>\n",
       "      <td>대사증후군 요소와 치주염의 관련성: 35-79세 한국인</td>\n",
       "      <td>en</td>\n",
       "      <td>Epidemiology, Metabolic syndrome, Periodontitis,</td>\n",
       "      <td>en</td>\n",
       "      <td>Objectives: The purpose of this study was to i...</td>\n",
       "    </tr>\n",
       "    <tr>\n",
       "      <th>3</th>\n",
       "      <td>계획된 행위이론에 근거한 대사증후군을 진단받은 대상자의 건강행위 설명모형</td>\n",
       "      <td>ko</td>\n",
       "      <td>대사증후군, 의도, 가족의 지지, 건강행위,</td>\n",
       "      <td>en</td>\n",
       "      <td>Purpose: This study aimed to identify the fact...</td>\n",
       "    </tr>\n",
       "    <tr>\n",
       "      <th>4</th>\n",
       "      <td>대사증후군을 가진 조현병 환자에서 활동기록기로 평가한 수면의 질과 신체 활동량</td>\n",
       "      <td>ko</td>\n",
       "      <td>조현병·대사증후군, 활동기록기, 수면의 질, 신체 활동,</td>\n",
       "      <td>en</td>\n",
       "      <td>Objectives：The authors examined the associatio...</td>\n",
       "    </tr>\n",
       "    <tr>\n",
       "      <th>...</th>\n",
       "      <td>...</td>\n",
       "      <td>...</td>\n",
       "      <td>...</td>\n",
       "      <td>...</td>\n",
       "      <td>...</td>\n",
       "    </tr>\n",
       "    <tr>\n",
       "      <th>947</th>\n",
       "      <td>비비만인에서 발견되는 비알콜성 지방간의 대사적 의미</td>\n",
       "      <td>ko</td>\n",
       "      <td>비알콜성 지방간, 체질량지수, 대사증후군, 중심성 비만, Non-alcoholic ...</td>\n",
       "      <td>ko</td>\n",
       "      <td>목적: 비알콜성 지방간은 비만, 당뇨병 그리고 지질대사 이상 등과 관련성이 깊다고 ...</td>\n",
       "    </tr>\n",
       "    <tr>\n",
       "      <th>948</th>\n",
       "      <td>한국 성인에서 흡연, 음주, 운동, 교육정도 및 가족력이 대사증후군에 미치는 영향</td>\n",
       "      <td>en</td>\n",
       "      <td>Smoking, Alcohol, Exercise, Family history, Ed...</td>\n",
       "      <td>ko</td>\n",
       "      <td>배경: 대사증후군은 심혈관 질환의 이환율과 이로 인한 사망률을 증가시키는 것으로 알...</td>\n",
       "    </tr>\n",
       "    <tr>\n",
       "      <th>949</th>\n",
       "      <td>체중 감소의 득과 실：올바른 다이어트하기</td>\n",
       "      <td>ko</td>\n",
       "      <td>체중감소,효과,올바른 다이어트,</td>\n",
       "      <td>ko</td>\n",
       "      <td>비만이 각종 성인병 및 소위 말하는 대사증후군의 위험성을 올려 주어 건강상 많은 문...</td>\n",
       "    </tr>\n",
       "    <tr>\n",
       "      <th>950</th>\n",
       "      <td>한국인에서의 대사증후군의 유병률 -일개 대학병원 종합검진센터 수진자를 대상으로-</td>\n",
       "      <td>ko</td>\n",
       "      <td>대사증후군, 유병률, 체질량지수, 중성지방, 혈압, 혈당, metabolic syn...</td>\n",
       "      <td>ko</td>\n",
       "      <td>연구배경: 대사증후군이란 고중성지방혈증, 고혈압, 당대사이상 및 비만과 같은 관상동...</td>\n",
       "    </tr>\n",
       "    <tr>\n",
       "      <th>951</th>\n",
       "      <td>농촌인구에서의 대사증후군의 특징과 비만 관련 인자와의 연관성</td>\n",
       "      <td>en</td>\n",
       "      <td>Metabolic syndrome, Obesity, Rural area,</td>\n",
       "      <td>en</td>\n",
       "      <td></td>\n",
       "    </tr>\n",
       "  </tbody>\n",
       "</table>\n",
       "<p>952 rows × 5 columns</p>\n",
       "</div>"
      ],
      "text/plain": [
       "                                                 title keywords_lang  \\\n",
       "0    한국 성인의 식생활평가지수에 기반한 전체 식사의 질과 대사증후군 구성요서 및 대사증...            en   \n",
       "1                         폐경 경험 및 대사증후군 구성요소와 치주염의 관련성            en   \n",
       "2                       대사증후군 요소와 치주염의 관련성: 35-79세 한국인            en   \n",
       "3             계획된 행위이론에 근거한 대사증후군을 진단받은 대상자의 건강행위 설명모형            ko   \n",
       "4          대사증후군을 가진 조현병 환자에서 활동기록기로 평가한 수면의 질과 신체 활동량            ko   \n",
       "..                                                 ...           ...   \n",
       "947                       비비만인에서 발견되는 비알콜성 지방간의 대사적 의미            ko   \n",
       "948      한국 성인에서 흡연, 음주, 운동, 교육정도 및 가족력이 대사증후군에 미치는 영향            en   \n",
       "949                             체중 감소의 득과 실：올바른 다이어트하기            ko   \n",
       "950       한국인에서의 대사증후군의 유병률 -일개 대학병원 종합검진센터 수진자를 대상으로-            ko   \n",
       "951                  농촌인구에서의 대사증후군의 특징과 비만 관련 인자와의 연관성            en   \n",
       "\n",
       "                                              keywords abstract_lang  \\\n",
       "0    diet quality, Korean Healthy Eating Index, met...            en   \n",
       "1    Menopause status, Metabolic syndrome, Oral hea...            en   \n",
       "2     Epidemiology, Metabolic syndrome, Periodontitis,            en   \n",
       "3                             대사증후군, 의도, 가족의 지지, 건강행위,            en   \n",
       "4                      조현병·대사증후군, 활동기록기, 수면의 질, 신체 활동,            en   \n",
       "..                                                 ...           ...   \n",
       "947  비알콜성 지방간, 체질량지수, 대사증후군, 중심성 비만, Non-alcoholic ...            ko   \n",
       "948  Smoking, Alcohol, Exercise, Family history, Ed...            ko   \n",
       "949                                  체중감소,효과,올바른 다이어트,            ko   \n",
       "950  대사증후군, 유병률, 체질량지수, 중성지방, 혈압, 혈당, metabolic syn...            ko   \n",
       "951           Metabolic syndrome, Obesity, Rural area,            en   \n",
       "\n",
       "                                              abstract  \n",
       "0    Objectives: This study examined the associatio...  \n",
       "1    Objectives: The purpose of this study was to i...  \n",
       "2    Objectives: The purpose of this study was to i...  \n",
       "3    Purpose: This study aimed to identify the fact...  \n",
       "4    Objectives：The authors examined the associatio...  \n",
       "..                                                 ...  \n",
       "947  목적: 비알콜성 지방간은 비만, 당뇨병 그리고 지질대사 이상 등과 관련성이 깊다고 ...  \n",
       "948  배경: 대사증후군은 심혈관 질환의 이환율과 이로 인한 사망률을 증가시키는 것으로 알...  \n",
       "949  비만이 각종 성인병 및 소위 말하는 대사증후군의 위험성을 올려 주어 건강상 많은 문...  \n",
       "950  연구배경: 대사증후군이란 고중성지방혈증, 고혈압, 당대사이상 및 비만과 같은 관상동...  \n",
       "951                                                     \n",
       "\n",
       "[952 rows x 5 columns]"
      ]
     },
     "execution_count": 20,
     "metadata": {},
     "output_type": "execute_result"
    }
   ],
   "source": [
    "crawler.papers"
   ]
  },
  {
   "cell_type": "code",
   "execution_count": 24,
   "metadata": {},
   "outputs": [],
   "source": [
    "crawler.papers.drop_duplicates(inplace=True)"
   ]
  },
  {
   "cell_type": "code",
   "execution_count": 27,
   "metadata": {
    "scrolled": true
   },
   "outputs": [],
   "source": [
    "crawler.papers.to_csv('papers_abs/대사증후군_초록.csv', index=False)"
   ]
  },
  {
   "cell_type": "code",
   "execution_count": 90,
   "metadata": {},
   "outputs": [],
   "source": [
    "papers = crawler.papers"
   ]
  },
  {
   "cell_type": "code",
   "execution_count": 45,
   "metadata": {
    "collapsed": true
   },
   "outputs": [
    {
     "data": {
      "text/html": [
       "<div>\n",
       "<style scoped>\n",
       "    .dataframe tbody tr th:only-of-type {\n",
       "        vertical-align: middle;\n",
       "    }\n",
       "\n",
       "    .dataframe tbody tr th {\n",
       "        vertical-align: top;\n",
       "    }\n",
       "\n",
       "    .dataframe thead th {\n",
       "        text-align: right;\n",
       "    }\n",
       "</style>\n",
       "<table border=\"1\" class=\"dataframe\">\n",
       "  <thead>\n",
       "    <tr style=\"text-align: right;\">\n",
       "      <th></th>\n",
       "      <th>title</th>\n",
       "      <th>keywords_lang</th>\n",
       "      <th>keywords</th>\n",
       "      <th>abstract_lang</th>\n",
       "      <th>abstract</th>\n",
       "    </tr>\n",
       "  </thead>\n",
       "  <tbody>\n",
       "    <tr>\n",
       "      <th>0</th>\n",
       "      <td>한국 성인의 식생활평가지수에 기반한 전체 식사의 질과 대사증후군 구성요서 및 대사증...</td>\n",
       "      <td>en</td>\n",
       "      <td>diet quality, Korean Healthy Eating Index, met...</td>\n",
       "      <td>en</td>\n",
       "      <td>Objectives: This study examined the associatio...</td>\n",
       "    </tr>\n",
       "    <tr>\n",
       "      <th>1</th>\n",
       "      <td>폐경 경험 및 대사증후군 구성요소와 치주염의 관련성</td>\n",
       "      <td>en</td>\n",
       "      <td>Menopause status, Metabolic syndrome, Oral hea...</td>\n",
       "      <td>en</td>\n",
       "      <td>Objectives: The purpose of this study was to i...</td>\n",
       "    </tr>\n",
       "    <tr>\n",
       "      <th>2</th>\n",
       "      <td>대사증후군 요소와 치주염의 관련성: 35-79세 한국인</td>\n",
       "      <td>en</td>\n",
       "      <td>Epidemiology, Metabolic syndrome, Periodontitis,</td>\n",
       "      <td>en</td>\n",
       "      <td>Objectives: The purpose of this study was to i...</td>\n",
       "    </tr>\n",
       "    <tr>\n",
       "      <th>3</th>\n",
       "      <td>계획된 행위이론에 근거한 대사증후군을 진단받은 대상자의 건강행위 설명모형</td>\n",
       "      <td>ko</td>\n",
       "      <td>대사증후군, 의도, 가족의 지지, 건강행위,</td>\n",
       "      <td>en</td>\n",
       "      <td>Purpose: This study aimed to identify the fact...</td>\n",
       "    </tr>\n",
       "    <tr>\n",
       "      <th>4</th>\n",
       "      <td>대사증후군을 가진 조현병 환자에서 활동기록기로 평가한 수면의 질과 신체 활동량</td>\n",
       "      <td>ko</td>\n",
       "      <td>조현병·대사증후군, 활동기록기, 수면의 질, 신체 활동,</td>\n",
       "      <td>en</td>\n",
       "      <td>Objectives：The authors examined the associatio...</td>\n",
       "    </tr>\n",
       "    <tr>\n",
       "      <th>...</th>\n",
       "      <td>...</td>\n",
       "      <td>...</td>\n",
       "      <td>...</td>\n",
       "      <td>...</td>\n",
       "      <td>...</td>\n",
       "    </tr>\n",
       "    <tr>\n",
       "      <th>944</th>\n",
       "      <td>대사증후군의 위험예측인자로서 인슐린저항성</td>\n",
       "      <td>en</td>\n",
       "      <td>Insulin resistance, Metabolic syndrome, Cardio...</td>\n",
       "      <td>ko</td>\n",
       "      <td>목적: 본 연구는 한국인 성인에서 인슐린저항성에 따른 대사증후군과 그 구성요소들의 ...</td>\n",
       "    </tr>\n",
       "    <tr>\n",
       "      <th>945</th>\n",
       "      <td>한국인 성인에서 내장지방량과 죽상경화증 위험인자 및 좌심실 비대와의 상관관계</td>\n",
       "      <td>en</td>\n",
       "      <td>Obesity, Visceral adipose tissue, LVH,,</td>\n",
       "      <td>ko</td>\n",
       "      <td>배경: 비만증은 심혈관 질환의 위험요소일 뿐 아니라 고혈압, 이상지질혈증, 인슐린 ...</td>\n",
       "    </tr>\n",
       "    <tr>\n",
       "      <th>946</th>\n",
       "      <td>도시지역 검진수진자 40,698명에서 NCEP-APTⅢ 기준에 의한 대사증후군 유병률</td>\n",
       "      <td>en</td>\n",
       "      <td>Prevalence, Metabolic sydrome, NCEP ATP-Ⅲ,,</td>\n",
       "      <td>ko</td>\n",
       "      <td>목적: 대사증후군은 그 진단기준의 다양함으로 인해 이 질환 군의 통계학적인 정보나 ...</td>\n",
       "    </tr>\n",
       "    <tr>\n",
       "      <th>948</th>\n",
       "      <td>한국 성인에서 흡연, 음주, 운동, 교육정도 및 가족력이 대사증후군에 미치는 영향</td>\n",
       "      <td>en</td>\n",
       "      <td>Smoking, Alcohol, Exercise, Family history, Ed...</td>\n",
       "      <td>ko</td>\n",
       "      <td>배경: 대사증후군은 심혈관 질환의 이환율과 이로 인한 사망률을 증가시키는 것으로 알...</td>\n",
       "    </tr>\n",
       "    <tr>\n",
       "      <th>951</th>\n",
       "      <td>농촌인구에서의 대사증후군의 특징과 비만 관련 인자와의 연관성</td>\n",
       "      <td>en</td>\n",
       "      <td>Metabolic syndrome, Obesity, Rural area,</td>\n",
       "      <td>en</td>\n",
       "      <td></td>\n",
       "    </tr>\n",
       "  </tbody>\n",
       "</table>\n",
       "<p>662 rows × 5 columns</p>\n",
       "</div>"
      ],
      "text/plain": [
       "                                                 title keywords_lang  \\\n",
       "0    한국 성인의 식생활평가지수에 기반한 전체 식사의 질과 대사증후군 구성요서 및 대사증...            en   \n",
       "1                         폐경 경험 및 대사증후군 구성요소와 치주염의 관련성            en   \n",
       "2                       대사증후군 요소와 치주염의 관련성: 35-79세 한국인            en   \n",
       "3             계획된 행위이론에 근거한 대사증후군을 진단받은 대상자의 건강행위 설명모형            ko   \n",
       "4          대사증후군을 가진 조현병 환자에서 활동기록기로 평가한 수면의 질과 신체 활동량            ko   \n",
       "..                                                 ...           ...   \n",
       "944                             대사증후군의 위험예측인자로서 인슐린저항성            en   \n",
       "945         한국인 성인에서 내장지방량과 죽상경화증 위험인자 및 좌심실 비대와의 상관관계            en   \n",
       "946    도시지역 검진수진자 40,698명에서 NCEP-APTⅢ 기준에 의한 대사증후군 유병률            en   \n",
       "948      한국 성인에서 흡연, 음주, 운동, 교육정도 및 가족력이 대사증후군에 미치는 영향            en   \n",
       "951                  농촌인구에서의 대사증후군의 특징과 비만 관련 인자와의 연관성            en   \n",
       "\n",
       "                                              keywords abstract_lang  \\\n",
       "0    diet quality, Korean Healthy Eating Index, met...            en   \n",
       "1    Menopause status, Metabolic syndrome, Oral hea...            en   \n",
       "2     Epidemiology, Metabolic syndrome, Periodontitis,            en   \n",
       "3                             대사증후군, 의도, 가족의 지지, 건강행위,            en   \n",
       "4                      조현병·대사증후군, 활동기록기, 수면의 질, 신체 활동,            en   \n",
       "..                                                 ...           ...   \n",
       "944  Insulin resistance, Metabolic syndrome, Cardio...            ko   \n",
       "945            Obesity, Visceral adipose tissue, LVH,,            ko   \n",
       "946        Prevalence, Metabolic sydrome, NCEP ATP-Ⅲ,,            ko   \n",
       "948  Smoking, Alcohol, Exercise, Family history, Ed...            ko   \n",
       "951           Metabolic syndrome, Obesity, Rural area,            en   \n",
       "\n",
       "                                              abstract  \n",
       "0    Objectives: This study examined the associatio...  \n",
       "1    Objectives: The purpose of this study was to i...  \n",
       "2    Objectives: The purpose of this study was to i...  \n",
       "3    Purpose: This study aimed to identify the fact...  \n",
       "4    Objectives：The authors examined the associatio...  \n",
       "..                                                 ...  \n",
       "944  목적: 본 연구는 한국인 성인에서 인슐린저항성에 따른 대사증후군과 그 구성요소들의 ...  \n",
       "945  배경: 비만증은 심혈관 질환의 위험요소일 뿐 아니라 고혈압, 이상지질혈증, 인슐린 ...  \n",
       "946  목적: 대사증후군은 그 진단기준의 다양함으로 인해 이 질환 군의 통계학적인 정보나 ...  \n",
       "948  배경: 대사증후군은 심혈관 질환의 이환율과 이로 인한 사망률을 증가시키는 것으로 알...  \n",
       "951                                                     \n",
       "\n",
       "[662 rows x 5 columns]"
      ]
     },
     "execution_count": 45,
     "metadata": {},
     "output_type": "execute_result"
    }
   ],
   "source": [
    "# crawler.papers.query('keywords_lang==\"en\" | abstract_lang==\"en\"')"
   ]
  },
  {
   "cell_type": "markdown",
   "metadata": {},
   "source": [
    "## 번역 API "
   ]
  },
  {
   "cell_type": "code",
   "execution_count": 38,
   "metadata": {
    "collapsed": true
   },
   "outputs": [
    {
     "name": "stdout",
     "output_type": "stream",
     "text": [
      "Collecting googletrans\n",
      "  Downloading googletrans-2.4.0.tar.gz (17 kB)\n",
      "Requirement already satisfied: requests in c:\\users\\nb-0242\\anaconda3\\envs\\ximz\\lib\\site-packages (from googletrans) (2.23.0)\n",
      "Requirement already satisfied: chardet<4,>=3.0.2 in c:\\users\\nb-0242\\anaconda3\\envs\\ximz\\lib\\site-packages (from requests->googletrans) (3.0.4)\n",
      "Requirement already satisfied: certifi>=2017.4.17 in c:\\users\\nb-0242\\anaconda3\\envs\\ximz\\lib\\site-packages (from requests->googletrans) (2019.11.28)\n",
      "Requirement already satisfied: idna<3,>=2.5 in c:\\users\\nb-0242\\anaconda3\\envs\\ximz\\lib\\site-packages (from requests->googletrans) (2.9)\n",
      "Requirement already satisfied: urllib3!=1.25.0,!=1.25.1,<1.26,>=1.21.1 in c:\\users\\nb-0242\\anaconda3\\envs\\ximz\\lib\\site-packages (from requests->googletrans) (1.25.8)\n",
      "Building wheels for collected packages: googletrans\n",
      "  Building wheel for googletrans (setup.py): started\n",
      "  Building wheel for googletrans (setup.py): finished with status 'done'\n",
      "  Created wheel for googletrans: filename=googletrans-2.4.0-py3-none-any.whl size=15779 sha256=016bc0dd91d6f835d29f4f645bb3774196efa77b7fa618d04669fda0a09f3038\n",
      "  Stored in directory: c:\\users\\nb-0242\\appdata\\local\\pip\\cache\\wheels\\29\\2c\\06\\957b5a801b311507090697dde39473f3d70154f1ca7142efa8\n",
      "Successfully built googletrans\n",
      "Installing collected packages: googletrans\n",
      "Successfully installed googletrans-2.4.0\n"
     ]
    }
   ],
   "source": [
    "# ! pip install google-cloud-translate==2.0.0\n",
    "! pip install googletrans"
   ]
  },
  {
   "cell_type": "code",
   "execution_count": 57,
   "metadata": {},
   "outputs": [],
   "source": [
    "from tqdm import tqdm_notebook"
   ]
  },
  {
   "cell_type": "code",
   "execution_count": 39,
   "metadata": {},
   "outputs": [],
   "source": [
    "from googletrans import Translator\n",
    "translator = Translator()"
   ]
  },
  {
   "cell_type": "code",
   "execution_count": 103,
   "metadata": {},
   "outputs": [],
   "source": [
    "papers.reset_index(drop=True, inplace=True)"
   ]
  },
  {
   "cell_type": "code",
   "execution_count": 121,
   "metadata": {
    "scrolled": false
   },
   "outputs": [
    {
     "name": "stderr",
     "output_type": "stream",
     "text": [
      "C:\\Users\\NB-0242\\Anaconda3\\envs\\ximz\\lib\\site-packages\\ipykernel_launcher.py:4: TqdmDeprecationWarning: This function will be removed in tqdm==5.0.0\n",
      "Please use `tqdm.notebook.tqdm` instead of `tqdm.tqdm_notebook`\n",
      "  after removing the cwd from sys.path.\n"
     ]
    },
    {
     "data": {
      "application/vnd.jupyter.widget-view+json": {
       "model_id": "2040de82eeab48b9a61899f402c74e10",
       "version_major": 2,
       "version_minor": 0
      },
      "text/plain": [
       "HBox(children=(FloatProgress(value=1.0, bar_style='info', max=1.0), HTML(value='')))"
      ]
     },
     "metadata": {},
     "output_type": "display_data"
    },
    {
     "name": "stdout",
     "output_type": "stream",
     "text": [
      "\n"
     ]
    }
   ],
   "source": [
    "keywords_dic = {}\n",
    "abstract_dic = {}\n",
    "error_dic = {}\n",
    "for idx ,row in tqdm_notebook(papers.iterrows()):\n",
    "    if (row['keywords_lang']=='en'):\n",
    "        try:\n",
    "            keywords_trans = translator.translate(row['keywords'],src='en', dest='ko').text\n",
    "    #         papers.loc[idx]['keywords'] = keywords_trans\n",
    "            keywords_dic[idx] = keywords_trans\n",
    "        except :\n",
    "            error_dic[idx] = 'keywords'\n",
    "            \n",
    "    if (row['abstract_lang']=='en'):\n",
    "        try:\n",
    "            abstract_trans = translator.translate(row['abstract'], src='en', dest='ko').text\n",
    "            papers.loc[idx]['abstract'] = abstract_trans\n",
    "            abstract_dic[idx] = abstract_trans\n",
    "        except :\n",
    "            error_dic[idx] = 'abstract'"
   ]
  },
  {
   "cell_type": "code",
   "execution_count": 151,
   "metadata": {
    "scrolled": true
   },
   "outputs": [
    {
     "name": "stderr",
     "output_type": "stream",
     "text": [
      "C:\\Users\\NB-0242\\Anaconda3\\envs\\ximz\\lib\\site-packages\\ipykernel_launcher.py:1: TqdmDeprecationWarning: This function will be removed in tqdm==5.0.0\n",
      "Please use `tqdm.notebook.tqdm` instead of `tqdm.tqdm_notebook`\n",
      "  \"\"\"Entry point for launching an IPython kernel.\n"
     ]
    },
    {
     "data": {
      "application/vnd.jupyter.widget-view+json": {
       "model_id": "b939e200918e44a295ccb971e7910542",
       "version_major": 2,
       "version_minor": 0
      },
      "text/plain": [
       "HBox(children=(FloatProgress(value=1.0, bar_style='info', max=1.0), HTML(value='')))"
      ]
     },
     "metadata": {},
     "output_type": "display_data"
    },
    {
     "name": "stdout",
     "output_type": "stream",
     "text": [
      "\n"
     ]
    }
   ],
   "source": [
    "# 특별한 이유없이 트랜잭션 병목현상으로 인해 JSON 에러가남 -> SLEEP 조금 줌 ㅎ\n",
    "for idx, columns in tqdm_notebook(zip(error_dic.keys(), error_dic.values())):\n",
    "    trans_res = translator.translate(papers.loc[idx][columns],src='en', dest='ko').text\n",
    "    papers.loc[idx][columns] = trans_res\n",
    "    time.sleep(0.5)"
   ]
  },
  {
   "cell_type": "code",
   "execution_count": 156,
   "metadata": {
    "scrolled": true
   },
   "outputs": [
    {
     "data": {
      "text/plain": [
       "'WHtR (높이 비율 몸통) 및 ABSI (a 체형 지수) 복부 비만을 반영하는 지표이다. 이 연구는 인슐린 저항성과 ABSI 및 WHtR의 대사 증후군의 예측 능력을 조사 하였다. 본 연구에서는 3 천 4 백 95 명 20 년에 종합 병원에서 신체 검사를받은 사람, 나이가 세 경기를 -do 년 1 월 9 월 가입일 2,017 2,017 단면 조사에 평가되었다. 대사 증후군은 AHA / NHLBI의 기준에 따라 정의 하였다. 인슐린 저항성은 HOMA-IR 값이 3.0 이상인 경우 인슐린 저항성이라고 판정 하였다. 남성과 여성 모두가 WHtR 및 ABSI보다 대사 위험 요인 사이에 강한 상관 관계를 보였다. WHtR 및 ABSI의 AUC 값 (p <0.001)는 각각 0.849 및 0.676이었다. 인슐린 저항성을 예측하고 WHtR ABSI의 AUC 값 (p <0.001)는 각각 0.818 및 0.641이었다. 결론적 ABSI 인슐린 저항과 WHtR 대사 증후군, 인슐린 저항성에 대한 좋은 예측 능력을 갖는 반면, 대사 증후군의 낮은 예측력을 갖는다.'"
      ]
     },
     "execution_count": 156,
     "metadata": {},
     "output_type": "execute_result"
    }
   ],
   "source": [
    "papers.loc[50:100]['abstract'][55]"
   ]
  },
  {
   "cell_type": "code",
   "execution_count": 158,
   "metadata": {},
   "outputs": [],
   "source": [
    "papers.drop(columns=['keywords_lang', 'abstract_lang'], inplace=True)"
   ]
  },
  {
   "cell_type": "code",
   "execution_count": 160,
   "metadata": {},
   "outputs": [],
   "source": [
    "papers.to_csv('papers_abs/대사증후군_초록_번역.csv', index=False)"
   ]
  },
  {
   "cell_type": "code",
   "execution_count": null,
   "metadata": {},
   "outputs": [],
   "source": []
  }
 ],
 "metadata": {
  "kernelspec": {
   "display_name": "Python 3",
   "language": "python",
   "name": "python3"
  }
 },
 "nbformat": 4,
 "nbformat_minor": 4
}
