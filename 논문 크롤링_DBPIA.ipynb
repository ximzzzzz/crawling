{
 "cells": [
  {
   "cell_type": "code",
   "execution_count": 28,
   "metadata": {
    "collapsed": true
   },
   "outputs": [
    {
     "name": "stdout",
     "output_type": "stream",
     "text": [
      "Collecting pyperclip\n",
      "  Downloading pyperclip-1.8.0.tar.gz (16 kB)\n",
      "Building wheels for collected packages: pyperclip\n",
      "  Building wheel for pyperclip (setup.py): started\n",
      "  Building wheel for pyperclip (setup.py): finished with status 'done'\n",
      "  Created wheel for pyperclip: filename=pyperclip-1.8.0-py3-none-any.whl size=8696 sha256=d60681afcea6c9451619f83dc4143a69130d60a768a2387af299cd3925081e0c\n",
      "  Stored in directory: c:\\users\\nb-0242\\appdata\\local\\pip\\cache\\wheels\\e5\\5e\\f7\\441179ddf6ac56f36cb1d84d94f35beedd5da15986ce3d321d\n",
      "Successfully built pyperclip\n",
      "Installing collected packages: pyperclip\n",
      "Successfully installed pyperclip-1.8.0\n"
     ]
    }
   ],
   "source": [
    "! pip install pyperclip"
   ]
  },
  {
   "cell_type": "code",
   "execution_count": 32,
   "metadata": {},
   "outputs": [],
   "source": [
    "from urllib.request import *\n",
    "from urllib import request\n",
    "import urllib.parse\n",
    "from bs4 import BeautifulSoup\n",
    "import bs4\n",
    "import re\n",
    "import numpy as np\n",
    "import requests\n",
    "from tika import parser as tkparser\n",
    "import lxml\n",
    "from selenium import webdriver\n",
    "import time\n",
    "from urllib.parse import quote\n",
    "import pyperclip\n",
    "from selenium.webdriver.common.keys import Keys"
   ]
  },
  {
   "cell_type": "code",
   "execution_count": 159,
   "metadata": {},
   "outputs": [],
   "source": [
    "SEARCH_TEXT = quote(\"대사증후군\") #ascii error prevention\n",
    "START_COUNT = 0\n",
    "PER_PAGE_VIEW = 10\n",
    "BASE_URL = 'http://dbpia.co.kr.libproxy.snu.ac.kr'\n",
    "ARTICLE_IDX = 1"
   ]
  },
  {
   "cell_type": "code",
   "execution_count": 18,
   "metadata": {},
   "outputs": [],
   "source": [
    "search_addr = 'http://www.dbpia.co.kr.libproxy.snu.ac.kr/search/topSearch?startCount={}&collection=ALL&range=A&searchField=ALL&sort=RANK&query={}&srchOption=*&includeAr=false'.format(START_COUNT, SEARCH_TEXT)"
   ]
  },
  {
   "cell_type": "code",
   "execution_count": 23,
   "metadata": {},
   "outputs": [
    {
     "data": {
      "text/plain": [
       "'http://www.dbpia.co.kr.libproxy.snu.ac.kr/search/topSearch?startCount=0&collection=ALL&range=A&searchField=ALL&sort=RANK&query=%EB%8C%80%EC%82%AC%EC%A6%9D%ED%9B%84%EA%B5%B0&srchOption=*&includeAr=false'"
      ]
     },
     "execution_count": 23,
     "metadata": {},
     "output_type": "execute_result"
    }
   ],
   "source": [
    "search_addr"
   ]
  },
  {
   "cell_type": "code",
   "execution_count": 35,
   "metadata": {},
   "outputs": [],
   "source": [
    "browser = webdriver.Chrome('C:/Users/NB-0242/jupyter/PHR/chromedriver.exe')\n",
    "browser.get('http://www.dbpia.co.kr.libproxy.snu.ac.kr/')"
   ]
  },
  {
   "cell_type": "code",
   "execution_count": 36,
   "metadata": {},
   "outputs": [],
   "source": [
    "pyperclip.copy('sioning1122')\n",
    "browser.find_element_by_id('edit-si-id').send_keys(Keys.CONTROL, 'v')\n",
    "pyperclip.copy('0409mysnu!!')\n",
    "browser.find_element_by_id('edit-si-pwd').send_keys(Keys.CONTROL, 'v')\n",
    "browser.find_element_by_xpath('//*[@id=\"edit-submit\"]').click()"
   ]
  },
  {
   "cell_type": "code",
   "execution_count": 39,
   "metadata": {},
   "outputs": [],
   "source": [
    "browser.get(search_addr)\n",
    "time.sleep(3)\n",
    "search_page_source = browser.page_source"
   ]
  },
  {
   "cell_type": "code",
   "execution_count": 56,
   "metadata": {},
   "outputs": [],
   "source": [
    "search_bs = BeautifulSoup(search_page_source, 'html.parser')"
   ]
  },
  {
   "cell_type": "code",
   "execution_count": 91,
   "metadata": {},
   "outputs": [],
   "source": [
    "# pdf_link = find_next_article.h5.a.get('href')\n",
    "# NEXT_ARTICLE_TITLE = .find_next('div',{'class':'titWrap'})\n",
    "find_next_article = search_bs.find('div', {'class' : 'titWrap'})\n",
    "title = find_next_article.get_text()\n",
    "authors = search_bs.find('li', {'id' : 'author_{}'.format(ARTICLE_IDX)}).get_text()\n",
    "\n",
    "#NEXT_ARTICLE_DATE = .find_next('li',{'class' : 'date'})\n",
    "find_next_date = search_bs.find('li',{'class' : 'date'})\n",
    "date = find_next_date.get_text()"
   ]
  },
  {
   "cell_type": "code",
   "execution_count": 160,
   "metadata": {
    "scrolled": true
   },
   "outputs": [],
   "source": [
    "pdf_list = search_bs.find_all('p',{'class' : 'btnGroup'})\n",
    "pdf_id = pdf_list[ARTICLE_IDX].find_next('button').find_next('button').get('id').replace('download_', \"\")\n",
    "pdf_link = 'http://download.dbpia.co.kr.libproxy.snu.ac.kr/File/Download?nodeId={}&isCv=Y&ssoSeq=1090446626&icstId=ICST00000515&b2cMembId=&dIndex=98450999&uIp=147.46.182.251&lty=003001&dty=091002&isCv=Y&lang=kr&prevPathCode=&lognId=&lognFmatCode=&lognUseType=151002'.format(pdf_id)"
   ]
  },
  {
   "cell_type": "code",
   "execution_count": 161,
   "metadata": {},
   "outputs": [],
   "source": [
    "browser.get(pdf_link) # 그냥 다운로드 받아버리자"
   ]
  },
  {
   "cell_type": "code",
   "execution_count": 158,
   "metadata": {},
   "outputs": [],
   "source": [
    "# prev_url = browser.current_url\n",
    "# browser.get(prev_url)\n",
    "browser.get(pdf_link)"
   ]
  },
  {
   "cell_type": "code",
   "execution_count": 141,
   "metadata": {},
   "outputs": [
    {
     "data": {
      "text/plain": [
       "'NODE09286136'"
      ]
     },
     "execution_count": 141,
     "metadata": {},
     "output_type": "execute_result"
    }
   ],
   "source": [
    "search_bs.find_all('p',{'class' : 'btnGroup'})"
   ]
  },
  {
   "cell_type": "code",
   "execution_count": null,
   "metadata": {},
   "outputs": [],
   "source": [
    "http://download.dbpia.co.kr.libproxy.snu.ac.kr/File/Download?nodeId=NODE09311247&isCv=Y&ssoSeq=1090456748&icstId=ICST00000515&b2cMembId=&dIndex=98453157&uIp=147.46.182.251&lty=003001&dty=091002&isCv=Y&lang=kr&prevPathCode=&lognId=&lognFmatCode=&lognUseType=151002"
   ]
  },
  {
   "cell_type": "code",
   "execution_count": 157,
   "metadata": {},
   "outputs": [
    {
     "data": {
      "text/plain": [
       "'http://download.dbpia.co.kr.libproxy.snu.ac.kr/File/Download?nodeId=NODE09311247&isCv=Y&ssoSeq=1090446626&icstId=ICST00000515&b2cMembId=&dIndex=98450999&uIp=147.46.182.251&lty=003001&dty=091002&isCv=Y&lang=kr&prevPathCode=&lognId=&lognFmatCode=&lognUseType=151002'"
      ]
     },
     "execution_count": 157,
     "metadata": {},
     "output_type": "execute_result"
    }
   ],
   "source": [
    "pdf_link"
   ]
  },
  {
   "cell_type": "code",
   "execution_count": 166,
   "metadata": {},
   "outputs": [
    {
     "ename": "TypeError",
     "evalue": "'ApplicationCache' object is not callable",
     "output_type": "error",
     "traceback": [
      "\u001b[1;31m---------------------------------------------------------------------------\u001b[0m",
      "\u001b[1;31mTypeError\u001b[0m                                 Traceback (most recent call last)",
      "\u001b[1;32m<ipython-input-166-68006bf76b7f>\u001b[0m in \u001b[0;36m<module>\u001b[1;34m\u001b[0m\n\u001b[1;32m----> 1\u001b[1;33m \u001b[0mbrowser\u001b[0m\u001b[1;33m.\u001b[0m\u001b[0mapplication_cache\u001b[0m\u001b[1;33m(\u001b[0m\u001b[1;33m)\u001b[0m\u001b[1;33m\u001b[0m\u001b[1;33m\u001b[0m\u001b[0m\n\u001b[0m",
      "\u001b[1;31mTypeError\u001b[0m: 'ApplicationCache' object is not callable"
     ]
    }
   ],
   "source": [
    "browser."
   ]
  },
  {
   "cell_type": "code",
   "execution_count": null,
   "metadata": {},
   "outputs": [],
   "source": []
  }
 ],
 "metadata": {
  "kernelspec": {
   "display_name": "Python 3",
   "language": "python",
   "name": "python3"
  },
  "language_info": {
   "codemirror_mode": {
    "name": "ipython",
    "version": 3
   },
   "file_extension": ".py",
   "mimetype": "text/x-python",
   "name": "python",
   "nbconvert_exporter": "python",
   "pygments_lexer": "ipython3",
   "version": "3.7.5"
  }
 },
 "nbformat": 4,
 "nbformat_minor": 4
}
